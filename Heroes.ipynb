{
 "cells": [
  {
   "cell_type": "markdown",
   "metadata": {},
   "source": [
    "### Heroes Of Pymoli Data Analysis\n",
    "* Of the 1163 active players, the vast majority are male (84%). There also exists, a smaller, but notable proportion of female players (14%).\n",
    "\n",
    "* Our peak age demographic falls between 20-24 (44.8%) with secondary groups falling between 15-19 (18.60%) and 25-29 (13.4%).  \n",
    "-----"
   ]
  },
  {
   "cell_type": "markdown",
   "metadata": {},
   "source": [
    "### Note\n",
    "* Instructions have been included for each segment. You do not have to follow them exactly, but they are included to help you think through the steps."
   ]
  },
  {
   "cell_type": "code",
   "execution_count": null,
   "metadata": {},
   "outputs": [],
   "source": [
    "# Dependencies and Setup\n",
    "import pandas as pd\n",
    "import numpy as np\n",
    "\n",
    "# File to Load (Remember to Change These)\n",
    "file_to_load = \"Resources/purchase_data.csv\"\n",
    "\n",
    "# Read Purchasing File and store into Pandas data frame\n",
    "purchase_data = pd.read_csv(file_to_load)\n",
    "purchase_data.head(10)"
   ]
  },
  {
   "cell_type": "markdown",
   "metadata": {},
   "source": [
    "## Player Count"
   ]
  },
  {
   "cell_type": "markdown",
   "metadata": {},
   "source": [
    "* Display the total number of players\n"
   ]
  },
  {
   "cell_type": "code",
   "execution_count": null,
   "metadata": {},
   "outputs": [],
   "source": [
    "#purchase_data[\"Purchase ID\"].sum()\n",
    "#purchase_data_info = purchase_data.sum()\n",
    "#f\"Total number of Players {purchase_data_info}\"\n",
    "\n",
    "total = purchase_data['SN'].count()\n",
    "\n",
    "print(\"Total number of Players\",total)\n",
    "\n",
    "\n",
    "\n",
    "\n",
    "\n"
   ]
  },
  {
   "cell_type": "markdown",
   "metadata": {},
   "source": [
    "## Purchasing Analysis (Total)"
   ]
  },
  {
   "cell_type": "markdown",
   "metadata": {},
   "source": [
    "* Run basic calculations to obtain number of unique items, average price, etc.\n",
    "\n",
    "\n",
    "* Create a summary data frame to hold the results\n",
    "\n",
    "\n",
    "* Optional: give the displayed data cleaner formatting\n",
    "\n",
    "\n",
    "* Display the summary data frame\n"
   ]
  },
  {
   "cell_type": "code",
   "execution_count": null,
   "metadata": {
    "scrolled": true
   },
   "outputs": [],
   "source": [
    "purchase_item_name = len(purchase_data[\"Item Name\"].unique())\n",
    "\n",
    "purchase_average = purchase_data[\"Price\"].mean()\n",
    "\n",
    "purchase_total = purchase_data[\"Price\"].sum()\n",
    "\n",
    "summary_table = pd.DataFrame(\n",
    "    {\"Total Unique Item\": purchase_item_name,\n",
    "    \"Average Item Price\": [purchase_average],\n",
    "    \"Total Purchase Price\": [purchase_total]})\n",
    "summary_table\n",
    "\n",
    "\n"
   ]
  },
  {
   "cell_type": "markdown",
   "metadata": {},
   "source": [
    "## Gender Demographics"
   ]
  },
  {
   "cell_type": "markdown",
   "metadata": {},
   "source": [
    "* Percentage and Count of Male Players\n",
    "\n",
    "\n",
    "* Percentage and Count of Female Players\n",
    "\n",
    "\n",
    "* Percentage and Count of Other / Non-Disclosed\n",
    "\n",
    "\n"
   ]
  },
  {
   "cell_type": "code",
   "execution_count": null,
   "metadata": {},
   "outputs": [],
   "source": [
    "\n",
    "gender_total = purchase_data.groupby(\"Gender\")\n",
    "\n",
    "total_gender= gender_total.nunique()[\"SN\"]\n",
    "\n",
    "player_percentage = total_gender / total * 100\n",
    "\n",
    "summary_gender = pd.DataFrame({\n",
    "          \"Gender totals\":[total_gender],\n",
    "          \"Persentage male and female\": [player_percentage]})\n",
    "summary_gender.index.name = None\n",
    "summary_gender.sort_values([\"Gender totals\"], ascending = False).style.format({\"player_percentage\":\"{:.2f}\"})\n",
    "#summary_gender.head(15)\n",
    "\n",
    "\n",
    "\n",
    "\n",
    "#summary_gender.index.name =None\n",
    "#summary_gender.head()\n",
    "\n",
    "\n",
    "#Gender_total_df = pd.DataFrame({\"Gender Percentage\": player_percentage,\n",
    "                               #\"Count\":gender_total})\n",
    "#\n",
    "\n",
    "#Gender_total_df.sort_values([\"Count\"], ascending = False)\n",
    "\n"
   ]
  },
  {
   "cell_type": "code",
   "execution_count": null,
   "metadata": {},
   "outputs": [],
   "source": [
    "gender_total = purchase_data.groupby(\"Gender\")\n",
    "total_gender= gender_total.nunique()[\"SN\"]\n",
    "player_percentage = total_gender / total * 100\n",
    "player_percentage"
   ]
  },
  {
   "cell_type": "markdown",
   "metadata": {},
   "source": [
    "\n",
    "## Purchasing Analysis (Gender)"
   ]
  },
  {
   "cell_type": "markdown",
   "metadata": {},
   "source": [
    "* Run basic calculations to obtain purchase count, avg. purchase price, avg. purchase total per person etc. by gender\n",
    "\n",
    "\n",
    "\n",
    "\n",
    "* Create a summary data frame to hold the results\n",
    "\n",
    "\n",
    "* Optional: give the displayed data cleaner formatting\n",
    "\n",
    "\n",
    "* Display the summary data frame"
   ]
  },
  {
   "cell_type": "code",
   "execution_count": null,
   "metadata": {},
   "outputs": [],
   "source": [
    "#count_buy = gender_total[\"Purchase ID\"].count()\n",
    "\n",
    "#price_avg = gender_total[\"Price\"].mean()\n",
    "price_total = gender_total[\"Price\"].agg([np.mean, np.sum , np.std,len])\n",
    "price_total"
   ]
  },
  {
   "cell_type": "markdown",
   "metadata": {},
   "source": [
    "## Age Demographics"
   ]
  },
  {
   "cell_type": "markdown",
   "metadata": {},
   "source": [
    "* Establish bins for ages\n",
    "\n",
    "\n",
    "* Categorize the existing players using the age bins. Hint: use pd.cut()\n",
    "\n",
    "\n",
    "* Calculate the numbers and percentages by age group\n",
    "\n",
    "\n",
    "* Create a summary data frame to hold the results\n",
    "\n",
    "\n",
    "* Optional: round the percentage column to two decimal points\n",
    "\n",
    "\n",
    "* Display Age Demographics Table\n"
   ]
  },
  {
   "cell_type": "code",
   "execution_count": null,
   "metadata": {},
   "outputs": [],
   "source": [
    "Age_bin = [0,10,14,19,24,29,34,41,100]\n",
    "group_names = [\"<10\", \"10-14\", \"15-19\", \"20-24\", \"25-29\", \"30-34\", \"35-39\", \"40+\"]\n",
    "\n",
    "purchase_data[\"age group\"] = pd.cut(purchase_data[\"Age\"],Age_bin,labels=group_names )\n",
    "purchase_data\n",
    "\n",
    "\n",
    "age_costgroup = purchase_data.groupby(\"age group\")\n",
    "\n",
    "age_count = age_costgroup[\"SN\"].nunique()\n",
    "\n",
    "Percentage = (age_count/total) * 100\n",
    "\n",
    "Playercount_byage = pd.DataFrame({\"Player Percentage\": Percentage,\"Count\": age_count})\n",
    "\n",
    "Playercount_byage.head()\n"
   ]
  },
  {
   "cell_type": "markdown",
   "metadata": {},
   "source": [
    "## Purchasing Analysis (Age)"
   ]
  },
  {
   "cell_type": "markdown",
   "metadata": {},
   "source": [
    "* Bin the purchase_data data frame by age\n",
    "\n",
    "\n",
    "* Run basic calculations to obtain purchase count, avg. purchase price, avg. purchase total per person etc. in the table below\n",
    "\n",
    "\n",
    "* Create a summary data frame to hold the results\n",
    "\n",
    "\n",
    "* Optional: give the displayed data cleaner formatting\n",
    "\n",
    "\n",
    "* Display the summary data frame"
   ]
  },
  {
   "cell_type": "code",
   "execution_count": null,
   "metadata": {},
   "outputs": [],
   "source": [
    "total_purch_age = age_costgroup[\"Purchase ID\"].count()\n",
    "average_purch = age_costgroup[\"Price\"].mean()\n",
    "total_age_purch = age_costgroup[\"Price\"].sum()\n",
    "\n",
    "purchase_per_age_avg = (total_age_purch/age_count) *100\n",
    "\n",
    "Age_Analysis_pd = pd.DataFrame({\"Player Percent\": purchase_per_age_avg,\n",
    "                              \"count\": age_count })\n",
    "\n",
    "Age_Analysis_pd.head()\n"
   ]
  },
  {
   "cell_type": "markdown",
   "metadata": {},
   "source": [
    "## Top Spenders"
   ]
  },
  {
   "cell_type": "markdown",
   "metadata": {},
   "source": [
    "* Run basic calculations to obtain the results in the table below\n",
    "\n",
    "\n",
    "* Create a summary data frame to hold the results\n",
    "\n",
    "\n",
    "* Sort the total purchase value column in descending order\n",
    "\n",
    "\n",
    "* Optional: give the displayed data cleaner formatting\n",
    "\n",
    "\n",
    "* Display a preview of the summary data frame\n",
    "\n"
   ]
  },
  {
   "cell_type": "code",
   "execution_count": null,
   "metadata": {},
   "outputs": [],
   "source": [
    "top_spender =purchase_data.groupby(\"SN\")\n",
    "\n",
    "spender_count = top_spender[\"Purchase ID\"].count()\n",
    "\n",
    "spender_count"
   ]
  },
  {
   "cell_type": "code",
   "execution_count": null,
   "metadata": {},
   "outputs": [],
   "source": [
    "top_spender =purchase_data.groupby(\"SN\")\n",
    "\n",
    "spender_count = top_spender[\"Purchase ID\"].count()\n",
    "avg_spender = top_spender[\"Price\"].mean()\n",
    "\n",
    "spender_total = top_spender[\"Price\"].sum()\n",
    "\n",
    "Most_spenders_pd = pd.DataFrame({\"Spender Count\": spender_count,\n",
    "                                 \"Avg spent\": avg_spender,\n",
    "                                 \"Spender total\": spender_total})\n",
    "\n",
    "Most_spenders_pd.head()\n",
    "# was up late dont know what I am doing wrong cant get it to count all the \n",
    "SN "
   ]
  },
  {
   "cell_type": "markdown",
   "metadata": {},
   "source": [
    "## Most Popular Items"
   ]
  },
  {
   "cell_type": "markdown",
   "metadata": {},
   "source": [
    "* Retrieve the Item ID, Item Name, and Item Price columns\n",
    "\n",
    "\n",
    "* Group by Item ID and Item Name. Perform calculations to obtain purchase count, item price, and total purchase value\n",
    "\n",
    "\n",
    "* Create a summary data frame to hold the results\n",
    "\n",
    "\n",
    "* Sort the purchase count column in descending order\n",
    "\n",
    "\n",
    "* Optional: give the displayed data cleaner formatting\n",
    "\n",
    "\n",
    "* Display a preview of the summary data frame\n",
    "\n"
   ]
  },
  {
   "cell_type": "code",
   "execution_count": null,
   "metadata": {},
   "outputs": [],
   "source": [
    "most = purchase_data[[\"Item ID\", \"Item Name\", \"Price\"]]\n",
    "item_grup = most.groupby([\"Item ID\", \"Item Name\"])  \n",
    "\n",
    "item_count = item_grup[\"Price\"].count()\n",
    "\n",
    "Item_price = item_grup[\"Price\"].sum()\n",
    "\n",
    "real_cost = Item_price/item_count\n",
    "\n",
    "\n",
    "Most_popular_Stuff = pd.DataFrame({\"count of items\": item_count,\n",
    "                                  \"item price\": Item_price,\n",
    "                                  \"Real cost\": real_cost})\n",
    "\n"
   ]
  },
  {
   "cell_type": "markdown",
   "metadata": {},
   "source": [
    "## Most Profitable Items"
   ]
  },
  {
   "cell_type": "markdown",
   "metadata": {},
   "source": [
    "* Sort the above table by total purchase value in descending order\n",
    "\n",
    "\n",
    "* Optional: give the displayed data cleaner formatting\n",
    "\n",
    "\n",
    "* Display a preview of the data frame\n",
    "\n"
   ]
  },
  {
   "cell_type": "code",
   "execution_count": null,
   "metadata": {
    "scrolled": true
   },
   "outputs": [],
   "source": [
    "most_profit = Most_popular_Stuff.sort_values([\"Real cost\"], ascending=False).head()\n",
    "\n",
    "most_profit"
   ]
  },
  {
   "cell_type": "code",
   "execution_count": null,
   "metadata": {},
   "outputs": [],
   "source": []
  }
 ],
 "metadata": {
  "anaconda-cloud": {},
  "kernel_info": {
   "name": "python3"
  },
  "kernelspec": {
   "display_name": "Python 3",
   "language": "python",
   "name": "python3"
  },
  "language_info": {
   "codemirror_mode": {
    "name": "ipython",
    "version": 3
   },
   "file_extension": ".py",
   "mimetype": "text/x-python",
   "name": "python",
   "nbconvert_exporter": "python",
   "pygments_lexer": "ipython3",
   "version": "3.7.1"
  },
  "nteract": {
   "version": "0.2.0"
  },
  "widgets": {
   "application/vnd.jupyter.widget-state+json": {
    "state": {},
    "version_major": 2,
    "version_minor": 0
   }
  }
 },
 "nbformat": 4,
 "nbformat_minor": 2
}
